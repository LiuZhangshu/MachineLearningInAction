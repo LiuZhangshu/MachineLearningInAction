{
 "cells": [
  {
   "cell_type": "code",
   "execution_count": 25,
   "metadata": {
    "ExecuteTime": {
     "end_time": "2020-05-15T05:49:13.142035Z",
     "start_time": "2020-05-15T05:49:13.135033Z"
    }
   },
   "outputs": [
    {
     "name": "stdout",
     "output_type": "stream",
     "text": [
      "Overwriting trees.py\n"
     ]
    }
   ],
   "source": [
    "%%writefile trees.py\n",
    "\n",
    "import numpy as np\n",
    "import math \n",
    "\n",
    "'''\n",
    "信息熵计算\n",
    "H=−∑p(xi)log2p(xi)\n",
    "step1 遍历统计标签个数\n",
    "step2 计算概率\n",
    "step3 计算信息熵\n",
    "'''\n",
    "def calcShannonEnt(dataset) : \n",
    "    numEntries = len(dataset)\n",
    "    labelCount = {}\n",
    "    for featVec in dataset :     \n",
    "        currentLabel = featVec[-1]\n",
    "        if currentLabel not in labelCount.keys():\n",
    "            labelCount[currentLabel] = 0 \n",
    "        labelCount[currentLabel]+= 1 \n",
    "    shannonEnt = 0.0\n",
    "    for keys in labelCount.keys() :\n",
    "        prob = labelCount[keys]/numEntries\n",
    "        shannonEnt -= prob * math.log(prob,2)\n",
    "    return shannonEnt\n",
    "'''\n",
    "数据集划分\n",
    "step1 判断feature是否符合条件\n",
    "step2 筛选出符合条件的样本，去掉判断特征\n",
    "step3 返回子矩阵\n",
    "'''\n",
    "def splitDataset(dataSet,axis,value):\n",
    "    retDataSet = []\n",
    "    for FeatVec in dataSet : \n",
    "        if FeatVec[axis]==value : \n",
    "            reduceFeatVec = FeatVec[:axis]\n",
    "            reduceFeatVec.extend(FeatVec[axis+1:])\n",
    "            retDataSet.append(reduceFeatVec)\n",
    "    return retDataSet\n",
    "\n",
    "'''\n",
    "选择最好的数据集划分方式\n",
    "step1 计算原始交叉熵\n",
    "step2 遍历特征\n",
    "    step3 取特征的枚举值，遍历\n",
    "        step4 通过特征和枚举值进行数据集划分，得到子集\n",
    "        step5 计算子集的信息熵增益\n",
    "    step6 计算最信息增益，得到最佳划分点\n",
    "'''\n",
    "def chooseBestFeatureToSplit(dataSet):\n",
    "    baseEntropy = calcShannonEnt(dataSet)\n",
    "    numFeature = len(dataSet[0]) -1 \n",
    "    bestInfoGain = 0.0 \n",
    "    newEntropy = 0.0\n",
    "    bestFeature = -1 \n",
    "    for i in range(numFeature) :\n",
    "        featList = [example[i] for example in dataSet]\n",
    "        featList = set(featList)\n",
    "        for value in featList : \n",
    "            subDataSet = splitDataset(dataSet,i,value)\n",
    "            prob = len(subDataSet)/float(len(dataSet))\n",
    "            newEntropy += prob*calcShannonEnt(subDataSet)\n",
    "        infoGain = baseEntropy - newEntropy\n",
    "        if(infoGain>bestInfoGain):\n",
    "            bestInfoGain=infoGain\n",
    "            bestFeature = i \n",
    "    return bestFeature\n",
    "'''\n",
    "投票\n",
    "'''    \n",
    "def majorityCnt(classList):\n",
    "    classCnt = {}\n",
    "    for vote in classList : \n",
    "        if vote not in classCnt.keys() :\n",
    "            classCnt[vote] = 0 \n",
    "            classCnt[vote] +=1\n",
    "        \n",
    "    sortedClass = sorted(classCnt.items(),key=lambda item:item[1],reverse=True)\n",
    "    return sortedClass[0][0]\n",
    "\n",
    "def createDataSet():\n",
    "    dataSet = [[1,1,'yes'],\n",
    "              [1,1,'yes'],\n",
    "              [1,0,'no'],\n",
    "              [0,1,'no'],\n",
    "              [0,1,'no']]\n",
    "    labels = ['no surfacing','flippers']\n",
    "    return dataSet,labels \n"
   ]
  },
  {
   "cell_type": "markdown",
   "metadata": {},
   "source": [
    "entropy(信息熵)  \n",
    "$H=-\\sum_{i=1}^{n}p(x_i)\\log_2p(x_i)$  \n",
    "信息熵增益  \n",
    "$Gain(D,a)=Ent(D)-\\sum_{v=1}^{V}\\frac{D^v}{D}Ent(D^v)$\n"
   ]
  },
  {
   "cell_type": "code",
   "execution_count": 2,
   "metadata": {
    "ExecuteTime": {
     "end_time": "2020-05-15T05:36:20.609949Z",
     "start_time": "2020-05-15T05:36:20.602911Z"
    }
   },
   "outputs": [],
   "source": [
    "import trees\n",
    "from imp import reload "
   ]
  },
  {
   "cell_type": "code",
   "execution_count": 3,
   "metadata": {
    "ExecuteTime": {
     "end_time": "2020-05-15T05:36:25.697894Z",
     "start_time": "2020-05-15T05:36:25.686893Z"
    }
   },
   "outputs": [
    {
     "data": {
      "text/plain": [
       "[[1, 1, 'yes'], [1, 1, 'yes'], [1, 0, 'no'], [0, 1, 'no'], [0, 1, 'no']]"
      ]
     },
     "execution_count": 3,
     "metadata": {},
     "output_type": "execute_result"
    }
   ],
   "source": [
    "myDat, labels = trees.createDataSet() ;\n",
    "myDat"
   ]
  },
  {
   "cell_type": "code",
   "execution_count": 7,
   "metadata": {
    "ExecuteTime": {
     "end_time": "2020-05-15T05:36:37.265966Z",
     "start_time": "2020-05-15T05:36:37.259966Z"
    }
   },
   "outputs": [
    {
     "data": {
      "text/plain": [
       "0.9709505944546686"
      ]
     },
     "execution_count": 7,
     "metadata": {},
     "output_type": "execute_result"
    }
   ],
   "source": [
    "reload(trees)\n",
    "trees.calcShannonEnt(myDat)"
   ]
  },
  {
   "cell_type": "code",
   "execution_count": 9,
   "metadata": {
    "ExecuteTime": {
     "end_time": "2020-05-15T05:36:42.246824Z",
     "start_time": "2020-05-15T05:36:42.239824Z"
    }
   },
   "outputs": [
    {
     "data": {
      "text/plain": [
       "1.3709505944546687"
      ]
     },
     "execution_count": 9,
     "metadata": {},
     "output_type": "execute_result"
    }
   ],
   "source": [
    "# 反映信息的纯度，增加后信息熵变大\n",
    "\n",
    "myDat[0][-1] = 'maybe'\n",
    "trees.calcShannonEnt(myDat)"
   ]
  },
  {
   "cell_type": "code",
   "execution_count": 10,
   "metadata": {
    "ExecuteTime": {
     "end_time": "2020-05-15T05:36:45.458396Z",
     "start_time": "2020-05-15T05:36:45.452394Z"
    }
   },
   "outputs": [
    {
     "data": {
      "text/plain": [
       "<module 'trees' from 'D:\\\\Codes\\\\machinelearning\\\\decisiontree\\\\trees.py'>"
      ]
     },
     "execution_count": 10,
     "metadata": {},
     "output_type": "execute_result"
    }
   ],
   "source": [
    "reload(trees)"
   ]
  },
  {
   "cell_type": "code",
   "execution_count": 11,
   "metadata": {
    "ExecuteTime": {
     "end_time": "2020-05-15T05:36:46.334398Z",
     "start_time": "2020-05-15T05:36:46.329395Z"
    }
   },
   "outputs": [
    {
     "data": {
      "text/plain": [
       "[[1, 1, 'yes'], [1, 1, 'yes'], [1, 0, 'no'], [0, 1, 'no'], [0, 1, 'no']]"
      ]
     },
     "execution_count": 11,
     "metadata": {},
     "output_type": "execute_result"
    }
   ],
   "source": [
    "myDat,labels = trees.createDataSet()\n",
    "myDat"
   ]
  },
  {
   "cell_type": "code",
   "execution_count": 12,
   "metadata": {
    "ExecuteTime": {
     "end_time": "2020-05-15T05:36:46.969396Z",
     "start_time": "2020-05-15T05:36:46.965394Z"
    }
   },
   "outputs": [],
   "source": [
    "a = trees.splitDataset(myDat,0,1)"
   ]
  },
  {
   "cell_type": "code",
   "execution_count": 13,
   "metadata": {
    "ExecuteTime": {
     "end_time": "2020-05-15T05:36:47.900441Z",
     "start_time": "2020-05-15T05:36:47.897439Z"
    }
   },
   "outputs": [
    {
     "name": "stdout",
     "output_type": "stream",
     "text": [
      "[[1, 'yes'], [1, 'yes'], [0, 'no']]\n"
     ]
    }
   ],
   "source": [
    "len(a)\n",
    "print(a)"
   ]
  },
  {
   "cell_type": "code",
   "execution_count": 14,
   "metadata": {
    "ExecuteTime": {
     "end_time": "2020-05-15T05:36:48.372495Z",
     "start_time": "2020-05-15T05:36:48.366492Z"
    }
   },
   "outputs": [
    {
     "data": {
      "text/plain": [
       "0.9182958340544896"
      ]
     },
     "execution_count": 14,
     "metadata": {},
     "output_type": "execute_result"
    }
   ],
   "source": [
    "trees.calcShannonEnt(a)"
   ]
  },
  {
   "cell_type": "code",
   "execution_count": 15,
   "metadata": {
    "ExecuteTime": {
     "end_time": "2020-05-15T05:36:48.823628Z",
     "start_time": "2020-05-15T05:36:48.819623Z"
    }
   },
   "outputs": [],
   "source": [
    "reload(trees)\n",
    "myDat,labels = trees.createDataSet()\n",
    "trees.chooseBestFeatureToSplit(myDat)"
   ]
  },
  {
   "cell_type": "code",
   "execution_count": 29,
   "metadata": {
    "ExecuteTime": {
     "end_time": "2020-05-15T05:49:33.525509Z",
     "start_time": "2020-05-15T05:49:33.516507Z"
    }
   },
   "outputs": [
    {
     "data": {
      "text/plain": [
       "2"
      ]
     },
     "execution_count": 29,
     "metadata": {},
     "output_type": "execute_result"
    }
   ],
   "source": [
    "reload(trees)\n",
    "a = [2,-1,2,3,-1]\n",
    "trees.majorityCnt(a)"
   ]
  },
  {
   "cell_type": "code",
   "execution_count": null,
   "metadata": {},
   "outputs": [],
   "source": []
  }
 ],
 "metadata": {
  "kernelspec": {
   "display_name": "Python 3",
   "language": "python",
   "name": "python3"
  },
  "language_info": {
   "codemirror_mode": {
    "name": "ipython",
    "version": 3
   },
   "file_extension": ".py",
   "mimetype": "text/x-python",
   "name": "python",
   "nbconvert_exporter": "python",
   "pygments_lexer": "ipython3",
   "version": "3.6.5"
  },
  "toc": {
   "base_numbering": 1,
   "nav_menu": {},
   "number_sections": true,
   "sideBar": true,
   "skip_h1_title": false,
   "title_cell": "Table of Contents",
   "title_sidebar": "Contents",
   "toc_cell": false,
   "toc_position": {},
   "toc_section_display": true,
   "toc_window_display": false
  },
  "varInspector": {
   "cols": {
    "lenName": 16,
    "lenType": 16,
    "lenVar": 40
   },
   "kernels_config": {
    "python": {
     "delete_cmd_postfix": "",
     "delete_cmd_prefix": "del ",
     "library": "var_list.py",
     "varRefreshCmd": "print(var_dic_list())"
    },
    "r": {
     "delete_cmd_postfix": ") ",
     "delete_cmd_prefix": "rm(",
     "library": "var_list.r",
     "varRefreshCmd": "cat(var_dic_list()) "
    }
   },
   "types_to_exclude": [
    "module",
    "function",
    "builtin_function_or_method",
    "instance",
    "_Feature"
   ],
   "window_display": false
  }
 },
 "nbformat": 4,
 "nbformat_minor": 2
}
